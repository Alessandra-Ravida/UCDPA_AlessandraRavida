{
 "cells": [
  {
   "cell_type": "markdown",
   "id": "4e4e63f9-763b-4c54-8fa1-1875af7b7541",
   "metadata": {
    "jupyter": {
     "source_hidden": true
    },
    "tags": []
   },
   "source": [
    "# COVID-19 in Ireland\n",
    "__Alessandra Ravida__ - _UCDPA Certificate in Introductory Data Analytics - January 2022_"
   ]
  },
  {
   "cell_type": "markdown",
   "id": "a70c6bd6-b0b8-4c15-86a5-cf31cb1aae4b",
   "metadata": {},
   "source": [
    "***"
   ]
  },
  {
   "cell_type": "markdown",
   "id": "1dcc9038-1653-4acd-abaa-f4316c50cef5",
   "metadata": {},
   "source": [
    "## Abstract\n",
    "In this project I am analysing Covid-19 datasets in Ireland. Firstly I'll explore the datasets per se, looking for interesting patterns, and then I'll try to contextualise patterns and explore correlations with other data (such as infection trends in other countries, temperature and weather conditions, and the impact of some govenrnment restrictions on some specific cohorts)."
   ]
  },
  {
   "cell_type": "markdown",
   "id": "e22500f4-c1d3-41cb-9e62-2dc0e63a145f",
   "metadata": {},
   "source": [
    "***"
   ]
  },
  {
   "cell_type": "markdown",
   "id": "a3ae7ac5-ee4c-4ab9-9bba-d3902c5f1835",
   "metadata": {},
   "source": [
    "## Python Modules"
   ]
  },
  {
   "cell_type": "markdown",
   "id": "7a0b4bea-9fd1-41ef-9faf-f95b7ab1900d",
   "metadata": {},
   "source": [
    "__Import all Relevant Modules__"
   ]
  },
  {
   "cell_type": "code",
   "execution_count": 4,
   "id": "9541550a-8f27-4fef-ad8c-a5a0e7bb0008",
   "metadata": {},
   "outputs": [],
   "source": [
    "#Here I import requests, numpy, pandas, matplotlib and seaborn\n",
    "\n",
    "import requests\n",
    "import numpy as np\n",
    "import pandas as pd\n",
    "import matplotlib.pyplot as plt\n",
    "import seaborn as sns"
   ]
  },
  {
   "cell_type": "markdown",
   "id": "44800ca2-4c57-4610-b8af-86de8606a4de",
   "metadata": {},
   "source": [
    "***"
   ]
  },
  {
   "cell_type": "markdown",
   "id": "542da210-9961-444b-bae2-c40338f72fd2",
   "metadata": {},
   "source": [
    "## Import and Clean data"
   ]
  },
  {
   "cell_type": "markdown",
   "id": "2fe967ef-d186-46b1-9cdb-780bd58fa071",
   "metadata": {},
   "source": [
    "__Importing COVID-19 Dataset for Ireland__\n",
    "[Click here for dataset source](https://covid-19.geohive.ie/datasets/d8eb52d56273413b84b0187a4e9117be/explore?showTable=true)"
   ]
  },
  {
   "cell_type": "code",
   "execution_count": 6,
   "id": "eee8f51b-23f8-43ae-a406-92600c732907",
   "metadata": {
    "tags": []
   },
   "outputs": [],
   "source": [
    "#This dataset is a csv file saved locally, I import it as Pandas DataFrame.\n",
    "\n",
    "covid_IRL = pd.read_csv('/Users/Alessandra/Dropbox/Data Analytics/Project/UCDPA_AlessandraRavida/Data/COVID-19_HPSC_Detailed_Statistics_Profile.csv')"
   ]
  },
  {
   "cell_type": "markdown",
   "id": "ca1af947-12a7-4e07-8105-874f6a318f79",
   "metadata": {},
   "source": [
    "__Understanding the dataset__"
   ]
  },
  {
   "cell_type": "code",
   "execution_count": 7,
   "id": "27df5cb1-e6ff-4eee-bcf5-b9a16ed5b3d4",
   "metadata": {
    "collapsed": true,
    "jupyter": {
     "outputs_hidden": true
    },
    "tags": []
   },
   "outputs": [
    {
     "name": "stdout",
     "output_type": "stream",
     "text": [
      "<class 'pandas.core.frame.DataFrame'>\n",
      "RangeIndex: 673 entries, 0 to 672\n",
      "Data columns (total 41 columns):\n",
      " #   Column                       Non-Null Count  Dtype  \n",
      "---  ------                       --------------  -----  \n",
      " 0   X                            673 non-null    float64\n",
      " 1   Y                            673 non-null    float64\n",
      " 2   Date                         673 non-null    object \n",
      " 3   ConfirmedCovidCases          673 non-null    int64  \n",
      " 4   TotalConfirmedCovidCases     673 non-null    int64  \n",
      " 5   ConfirmedCovidDeaths         502 non-null    float64\n",
      " 6   TotalCovidDeaths             673 non-null    int64  \n",
      " 7   StatisticsProfileDate        673 non-null    object \n",
      " 8   CovidCasesConfirmed          671 non-null    float64\n",
      " 9   HospitalisedCovidCases       671 non-null    float64\n",
      " 10  RequiringICUCovidCases       671 non-null    float64\n",
      " 11  HealthcareWorkersCovidCases  671 non-null    float64\n",
      " 12  ClustersNotified             651 non-null    float64\n",
      " 13  HospitalisedAged5            671 non-null    float64\n",
      " 14  HospitalisedAged5to14        671 non-null    float64\n",
      " 15  HospitalisedAged15to24       671 non-null    float64\n",
      " 16  HospitalisedAged25to34       671 non-null    float64\n",
      " 17  HospitalisedAged35to44       671 non-null    float64\n",
      " 18  HospitalisedAged45to54       671 non-null    float64\n",
      " 19  HospitalisedAged55to64       671 non-null    float64\n",
      " 20  Male                         671 non-null    float64\n",
      " 21  Female                       671 non-null    float64\n",
      " 22  Unknown                      671 non-null    float64\n",
      " 23  Aged1to4                     671 non-null    float64\n",
      " 24  Aged5to14                    671 non-null    float64\n",
      " 25  Aged15to24                   671 non-null    float64\n",
      " 26  Aged25to34                   671 non-null    float64\n",
      " 27  Aged35to44                   671 non-null    float64\n",
      " 28  Aged45to54                   671 non-null    float64\n",
      " 29  Aged55to64                   671 non-null    float64\n",
      " 30  Median_Age                   671 non-null    float64\n",
      " 31  CommunityTransmission        673 non-null    int64  \n",
      " 32  CloseContact                 673 non-null    int64  \n",
      " 33  TravelAbroad                 673 non-null    int64  \n",
      " 34  FID                          673 non-null    int64  \n",
      " 35  HospitalisedAged65to74       671 non-null    float64\n",
      " 36  HospitalisedAged75to84       671 non-null    float64\n",
      " 37  HospitalisedAged85up         671 non-null    float64\n",
      " 38  Aged65to74                   671 non-null    float64\n",
      " 39  Aged75to84                   671 non-null    float64\n",
      " 40  Aged85up                     671 non-null    float64\n",
      "dtypes: float64(32), int64(7), object(2)\n",
      "memory usage: 215.7+ KB\n"
     ]
    }
   ],
   "source": [
    "#I start analysing structure of the df\n",
    "covid_IRL.info()"
   ]
  },
  {
   "cell_type": "code",
   "execution_count": 8,
   "id": "9eb785a4-c793-4f90-8805-dfb82d776877",
   "metadata": {
    "collapsed": true,
    "jupyter": {
     "outputs_hidden": true
    },
    "tags": []
   },
   "outputs": [
    {
     "data": {
      "text/html": [
       "<div>\n",
       "<style scoped>\n",
       "    .dataframe tbody tr th:only-of-type {\n",
       "        vertical-align: middle;\n",
       "    }\n",
       "\n",
       "    .dataframe tbody tr th {\n",
       "        vertical-align: top;\n",
       "    }\n",
       "\n",
       "    .dataframe thead th {\n",
       "        text-align: right;\n",
       "    }\n",
       "</style>\n",
       "<table border=\"1\" class=\"dataframe\">\n",
       "  <thead>\n",
       "    <tr style=\"text-align: right;\">\n",
       "      <th></th>\n",
       "      <th>X</th>\n",
       "      <th>Y</th>\n",
       "      <th>Date</th>\n",
       "      <th>ConfirmedCovidCases</th>\n",
       "      <th>TotalConfirmedCovidCases</th>\n",
       "      <th>ConfirmedCovidDeaths</th>\n",
       "      <th>TotalCovidDeaths</th>\n",
       "      <th>StatisticsProfileDate</th>\n",
       "      <th>CovidCasesConfirmed</th>\n",
       "      <th>HospitalisedCovidCases</th>\n",
       "      <th>...</th>\n",
       "      <th>CommunityTransmission</th>\n",
       "      <th>CloseContact</th>\n",
       "      <th>TravelAbroad</th>\n",
       "      <th>FID</th>\n",
       "      <th>HospitalisedAged65to74</th>\n",
       "      <th>HospitalisedAged75to84</th>\n",
       "      <th>HospitalisedAged85up</th>\n",
       "      <th>Aged65to74</th>\n",
       "      <th>Aged75to84</th>\n",
       "      <th>Aged85up</th>\n",
       "    </tr>\n",
       "  </thead>\n",
       "  <tbody>\n",
       "    <tr>\n",
       "      <th>0</th>\n",
       "      <td>-7.692596</td>\n",
       "      <td>53.288234</td>\n",
       "      <td>2020/02/29 00:00:00+00</td>\n",
       "      <td>1</td>\n",
       "      <td>1</td>\n",
       "      <td>0.0</td>\n",
       "      <td>0</td>\n",
       "      <td>2020/02/27 00:00:00+00</td>\n",
       "      <td>NaN</td>\n",
       "      <td>NaN</td>\n",
       "      <td>...</td>\n",
       "      <td>0</td>\n",
       "      <td>0</td>\n",
       "      <td>0</td>\n",
       "      <td>1</td>\n",
       "      <td>NaN</td>\n",
       "      <td>NaN</td>\n",
       "      <td>NaN</td>\n",
       "      <td>NaN</td>\n",
       "      <td>NaN</td>\n",
       "      <td>NaN</td>\n",
       "    </tr>\n",
       "    <tr>\n",
       "      <th>1</th>\n",
       "      <td>-7.692596</td>\n",
       "      <td>53.288234</td>\n",
       "      <td>2020/03/03 00:00:00+00</td>\n",
       "      <td>1</td>\n",
       "      <td>2</td>\n",
       "      <td>0.0</td>\n",
       "      <td>0</td>\n",
       "      <td>2020/03/01 00:00:00+00</td>\n",
       "      <td>NaN</td>\n",
       "      <td>NaN</td>\n",
       "      <td>...</td>\n",
       "      <td>0</td>\n",
       "      <td>0</td>\n",
       "      <td>0</td>\n",
       "      <td>2</td>\n",
       "      <td>NaN</td>\n",
       "      <td>NaN</td>\n",
       "      <td>NaN</td>\n",
       "      <td>NaN</td>\n",
       "      <td>NaN</td>\n",
       "      <td>NaN</td>\n",
       "    </tr>\n",
       "    <tr>\n",
       "      <th>2</th>\n",
       "      <td>-7.692596</td>\n",
       "      <td>53.288234</td>\n",
       "      <td>2020/03/04 00:00:00+00</td>\n",
       "      <td>4</td>\n",
       "      <td>6</td>\n",
       "      <td>0.0</td>\n",
       "      <td>0</td>\n",
       "      <td>2020/03/02 00:00:00+00</td>\n",
       "      <td>1.0</td>\n",
       "      <td>0.0</td>\n",
       "      <td>...</td>\n",
       "      <td>0</td>\n",
       "      <td>0</td>\n",
       "      <td>0</td>\n",
       "      <td>3</td>\n",
       "      <td>0.0</td>\n",
       "      <td>0.0</td>\n",
       "      <td>0.0</td>\n",
       "      <td>0.0</td>\n",
       "      <td>0.0</td>\n",
       "      <td>0.0</td>\n",
       "    </tr>\n",
       "    <tr>\n",
       "      <th>3</th>\n",
       "      <td>-7.692596</td>\n",
       "      <td>53.288234</td>\n",
       "      <td>2020/03/05 00:00:00+00</td>\n",
       "      <td>7</td>\n",
       "      <td>13</td>\n",
       "      <td>0.0</td>\n",
       "      <td>0</td>\n",
       "      <td>2020/03/03 00:00:00+00</td>\n",
       "      <td>2.0</td>\n",
       "      <td>1.0</td>\n",
       "      <td>...</td>\n",
       "      <td>0</td>\n",
       "      <td>0</td>\n",
       "      <td>0</td>\n",
       "      <td>4</td>\n",
       "      <td>0.0</td>\n",
       "      <td>0.0</td>\n",
       "      <td>0.0</td>\n",
       "      <td>0.0</td>\n",
       "      <td>0.0</td>\n",
       "      <td>0.0</td>\n",
       "    </tr>\n",
       "    <tr>\n",
       "      <th>4</th>\n",
       "      <td>-7.692596</td>\n",
       "      <td>53.288234</td>\n",
       "      <td>2020/03/06 00:00:00+00</td>\n",
       "      <td>5</td>\n",
       "      <td>18</td>\n",
       "      <td>0.0</td>\n",
       "      <td>0</td>\n",
       "      <td>2020/03/04 00:00:00+00</td>\n",
       "      <td>5.0</td>\n",
       "      <td>4.0</td>\n",
       "      <td>...</td>\n",
       "      <td>0</td>\n",
       "      <td>0</td>\n",
       "      <td>0</td>\n",
       "      <td>5</td>\n",
       "      <td>0.0</td>\n",
       "      <td>0.0</td>\n",
       "      <td>0.0</td>\n",
       "      <td>0.0</td>\n",
       "      <td>0.0</td>\n",
       "      <td>0.0</td>\n",
       "    </tr>\n",
       "  </tbody>\n",
       "</table>\n",
       "<p>5 rows × 41 columns</p>\n",
       "</div>"
      ],
      "text/plain": [
       "          X          Y                    Date  ConfirmedCovidCases  \\\n",
       "0 -7.692596  53.288234  2020/02/29 00:00:00+00                    1   \n",
       "1 -7.692596  53.288234  2020/03/03 00:00:00+00                    1   \n",
       "2 -7.692596  53.288234  2020/03/04 00:00:00+00                    4   \n",
       "3 -7.692596  53.288234  2020/03/05 00:00:00+00                    7   \n",
       "4 -7.692596  53.288234  2020/03/06 00:00:00+00                    5   \n",
       "\n",
       "   TotalConfirmedCovidCases  ConfirmedCovidDeaths  TotalCovidDeaths  \\\n",
       "0                         1                   0.0                 0   \n",
       "1                         2                   0.0                 0   \n",
       "2                         6                   0.0                 0   \n",
       "3                        13                   0.0                 0   \n",
       "4                        18                   0.0                 0   \n",
       "\n",
       "    StatisticsProfileDate  CovidCasesConfirmed  HospitalisedCovidCases  ...  \\\n",
       "0  2020/02/27 00:00:00+00                  NaN                     NaN  ...   \n",
       "1  2020/03/01 00:00:00+00                  NaN                     NaN  ...   \n",
       "2  2020/03/02 00:00:00+00                  1.0                     0.0  ...   \n",
       "3  2020/03/03 00:00:00+00                  2.0                     1.0  ...   \n",
       "4  2020/03/04 00:00:00+00                  5.0                     4.0  ...   \n",
       "\n",
       "   CommunityTransmission  CloseContact  TravelAbroad  FID  \\\n",
       "0                      0             0             0    1   \n",
       "1                      0             0             0    2   \n",
       "2                      0             0             0    3   \n",
       "3                      0             0             0    4   \n",
       "4                      0             0             0    5   \n",
       "\n",
       "   HospitalisedAged65to74  HospitalisedAged75to84  HospitalisedAged85up  \\\n",
       "0                     NaN                     NaN                   NaN   \n",
       "1                     NaN                     NaN                   NaN   \n",
       "2                     0.0                     0.0                   0.0   \n",
       "3                     0.0                     0.0                   0.0   \n",
       "4                     0.0                     0.0                   0.0   \n",
       "\n",
       "   Aged65to74  Aged75to84  Aged85up  \n",
       "0         NaN         NaN       NaN  \n",
       "1         NaN         NaN       NaN  \n",
       "2         0.0         0.0       0.0  \n",
       "3         0.0         0.0       0.0  \n",
       "4         0.0         0.0       0.0  \n",
       "\n",
       "[5 rows x 41 columns]"
      ]
     },
     "execution_count": 8,
     "metadata": {},
     "output_type": "execute_result"
    }
   ],
   "source": [
    "#look at the first 5 rows of the dataset\n",
    "\n",
    "covid_IRL.head()"
   ]
  },
  {
   "cell_type": "code",
   "execution_count": 124,
   "id": "27de09d9-5be8-4c94-8c19-3bef64e7c459",
   "metadata": {},
   "outputs": [
    {
     "data": {
      "text/plain": [
       "'2022/01/03 00:00:00+00'"
      ]
     },
     "execution_count": 124,
     "metadata": {},
     "output_type": "execute_result"
    }
   ],
   "source": [
    "\"\"\"\n",
    "First date in dataset is 29th of Feb 2020.\n",
    "I now check what's the last date.\n",
    "This information will be important to slice other time-based datasets.\n",
    "\"\"\"\n",
    "#I select the last row of the dataframe via its index number and only the date column\n",
    "\n",
    "covid_IRL.loc[672 , \"Date\"]"
   ]
  },
  {
   "cell_type": "markdown",
   "id": "59c731b1-c67b-4ffc-934d-9a3b4f9b0b0b",
   "metadata": {},
   "source": [
    "__Cleaning the dataset__"
   ]
  },
  {
   "cell_type": "code",
   "execution_count": 9,
   "id": "e59f98e6-02c9-49ee-9239-174ecd8bdd58",
   "metadata": {
    "collapsed": true,
    "jupyter": {
     "outputs_hidden": true
    },
    "tags": []
   },
   "outputs": [
    {
     "data": {
      "text/plain": [
       "X                                0\n",
       "Y                                0\n",
       "Date                             0\n",
       "ConfirmedCovidCases              0\n",
       "TotalConfirmedCovidCases         0\n",
       "ConfirmedCovidDeaths           171\n",
       "TotalCovidDeaths                 0\n",
       "StatisticsProfileDate            0\n",
       "CovidCasesConfirmed              2\n",
       "HospitalisedCovidCases           2\n",
       "RequiringICUCovidCases           2\n",
       "HealthcareWorkersCovidCases      2\n",
       "ClustersNotified                22\n",
       "HospitalisedAged5                2\n",
       "HospitalisedAged5to14            2\n",
       "HospitalisedAged15to24           2\n",
       "HospitalisedAged25to34           2\n",
       "HospitalisedAged35to44           2\n",
       "HospitalisedAged45to54           2\n",
       "HospitalisedAged55to64           2\n",
       "Male                             2\n",
       "Female                           2\n",
       "Unknown                          2\n",
       "Aged1to4                         2\n",
       "Aged5to14                        2\n",
       "Aged15to24                       2\n",
       "Aged25to34                       2\n",
       "Aged35to44                       2\n",
       "Aged45to54                       2\n",
       "Aged55to64                       2\n",
       "Median_Age                       2\n",
       "CommunityTransmission            0\n",
       "CloseContact                     0\n",
       "TravelAbroad                     0\n",
       "FID                              0\n",
       "HospitalisedAged65to74           2\n",
       "HospitalisedAged75to84           2\n",
       "HospitalisedAged85up             2\n",
       "Aged65to74                       2\n",
       "Aged75to84                       2\n",
       "Aged85up                         2\n",
       "dtype: int64"
      ]
     },
     "execution_count": 9,
     "metadata": {},
     "output_type": "execute_result"
    }
   ],
   "source": [
    "\"\"\" \n",
    "In the first rows of the df, there are some NaN.\n",
    "I believe that for the first few days they might not have \n",
    "tested all hospitalised patients for COVID hence it's more correct \n",
    "to report those values as NaN rather than 0.0, however I think that\n",
    "for the purposese of my analysis, it's safe to convert NaN into 0.0.\n",
    "\"\"\"\n",
    "\n",
    "#I check in how many more instances I find NaN in the dataset\n",
    "\n",
    "covid_IRL.isna().sum()"
   ]
  },
  {
   "cell_type": "code",
   "execution_count": 10,
   "id": "6e2c6bff-c963-4aab-8c4a-5798e423cf9b",
   "metadata": {
    "collapsed": true,
    "jupyter": {
     "outputs_hidden": true
    },
    "tags": []
   },
   "outputs": [
    {
     "data": {
      "text/plain": [
       "X                              0\n",
       "Y                              0\n",
       "Date                           0\n",
       "ConfirmedCovidCases            0\n",
       "TotalConfirmedCovidCases       0\n",
       "ConfirmedCovidDeaths           0\n",
       "TotalCovidDeaths               0\n",
       "StatisticsProfileDate          0\n",
       "CovidCasesConfirmed            0\n",
       "HospitalisedCovidCases         0\n",
       "RequiringICUCovidCases         0\n",
       "HealthcareWorkersCovidCases    0\n",
       "ClustersNotified               0\n",
       "HospitalisedAged5              0\n",
       "HospitalisedAged5to14          0\n",
       "HospitalisedAged15to24         0\n",
       "HospitalisedAged25to34         0\n",
       "HospitalisedAged35to44         0\n",
       "HospitalisedAged45to54         0\n",
       "HospitalisedAged55to64         0\n",
       "Male                           0\n",
       "Female                         0\n",
       "Unknown                        0\n",
       "Aged1to4                       0\n",
       "Aged5to14                      0\n",
       "Aged15to24                     0\n",
       "Aged25to34                     0\n",
       "Aged35to44                     0\n",
       "Aged45to54                     0\n",
       "Aged55to64                     0\n",
       "Median_Age                     0\n",
       "CommunityTransmission          0\n",
       "CloseContact                   0\n",
       "TravelAbroad                   0\n",
       "FID                            0\n",
       "HospitalisedAged65to74         0\n",
       "HospitalisedAged75to84         0\n",
       "HospitalisedAged85up           0\n",
       "Aged65to74                     0\n",
       "Aged75to84                     0\n",
       "Aged85up                       0\n",
       "dtype: int64"
      ]
     },
     "execution_count": 10,
     "metadata": {},
     "output_type": "execute_result"
    }
   ],
   "source": [
    "\"\"\" \n",
    "The column with most NaN is ConfirmedCovidDeaths, \n",
    "this is due to the fact that the reporting system for \n",
    "COVID deaths has changed in the summer of 2021 from a daily\n",
    "to a weekly report, hence numbers appear now only \n",
    "once a week.\n",
    "\n",
    "Note:It might be better to analyse data on a weekly \n",
    "basis rather than on a dayly basis\n",
    "\"\"\"\n",
    "\n",
    "#replacing NaN with 0 and check if successful\n",
    "\n",
    "covid_IRL_fill = covid_IRL.fillna(0)\n",
    "covid_IRL_fill.isna().sum()"
   ]
  },
  {
   "cell_type": "code",
   "execution_count": 18,
   "id": "7fbaa657-9227-40e7-9820-b731128a4b98",
   "metadata": {
    "jupyter": {
     "source_hidden": true
    },
    "tags": []
   },
   "outputs": [
    {
     "data": {
      "image/png": "[encoded data removed]",
      "text/plain": [
       "<Figure size 432x288 with 1 Axes>"
      ]
     },
     "metadata": {
      "needs_background": "light"
     },
     "output_type": "display_data"
    }
   ],
   "source": [
    "\"\"\"\n",
    "I want to see how the confirmed covid deaths column looks,\n",
    "i think it's misleading since all the other data is daily.\n",
    "\n",
    "If I use this column I will manipulate all the other columns so to show \n",
    "weekly data and not daily\n",
    "\"\"\"\n",
    "\n",
    "#make a quick line plot of Confirmed covid cases vs date\n",
    "sns.lineplot(data=covid_IRL_ordered, x=\"Date\", y=\"ConfirmedCovidDeaths\")\n",
    "plt.show()\n",
    "\n",
    "\"\"\"\n",
    "I need to address the display of the x-axis to tidy up the visualisation\n",
    "\"\"\""
   ]
  },
  {
   "cell_type": "code",
   "execution_count": 31,
   "id": "532a1b50-8004-4329-a3bd-eb4353071c32",
   "metadata": {
    "collapsed": true,
    "jupyter": {
     "outputs_hidden": true
    },
    "tags": []
   },
   "outputs": [
    {
     "data": {
      "text/plain": [
       "FID                           int64\n",
       "Date                         object\n",
       "ConfirmedCovidCases           int64\n",
       "TotalConfirmedCovidCases      int64\n",
       "ConfirmedCovidDeaths        float64\n",
       "TotalCovidDeaths              int64\n",
       "HospitalisedCovidCases      float64\n",
       "RequiringICUCovidCases      float64\n",
       "Aged1to4                    float64\n",
       "Aged5to14                   float64\n",
       "Aged15to24                  float64\n",
       "Aged25to34                  float64\n",
       "Aged35to44                  float64\n",
       "Aged45to54                  float64\n",
       "Aged55to64                  float64\n",
       "Aged65to74                  float64\n",
       "Aged75to84                  float64\n",
       "Aged85up                    float64\n",
       "HospitalisedAged5           float64\n",
       "HospitalisedAged5to14       float64\n",
       "HospitalisedAged15to24      float64\n",
       "HospitalisedAged25to34      float64\n",
       "HospitalisedAged35to44      float64\n",
       "HospitalisedAged45to54      float64\n",
       "HospitalisedAged55to64      float64\n",
       "HospitalisedAged65to74      float64\n",
       "HospitalisedAged75to84      float64\n",
       "HospitalisedAged85up        float64\n",
       "Male                        float64\n",
       "Female                      float64\n",
       "Unknown                     float64\n",
       "dtype: object"
      ]
     },
     "execution_count": 31,
     "metadata": {},
     "output_type": "execute_result"
    }
   ],
   "source": [
    "\"\"\"\n",
    "The display of the x axis needs to be addressed.\n",
    "One problem could be that the Date column is not seen as date.\n",
    "If I convert the date column into date variable Imight be able\n",
    "to control the axes better.\n",
    "\"\"\"\n",
    "\n",
    "#I check the type of variables in the column Date\n",
    "covid_IRL_ordered.dtypes"
   ]
  },
  {
   "cell_type": "code",
   "execution_count": 26,
   "id": "716d90e7-fedd-4c87-af32-011d1213c630",
   "metadata": {
    "collapsed": true,
    "jupyter": {
     "outputs_hidden": true
    },
    "tags": []
   },
   "outputs": [
    {
     "data": {
      "text/plain": [
       "Date                        datetime64[ns, UTC]\n",
       "ConfirmedCovidCases                       int64\n",
       "TotalConfirmedCovidCases                  int64\n",
       "ConfirmedCovidDeaths                    float64\n",
       "TotalCovidDeaths                          int64\n",
       "HospitalisedCovidCases                  float64\n",
       "RequiringICUCovidCases                  float64\n",
       "HospitalisedAged5                       float64\n",
       "HospitalisedAged5to14                   float64\n",
       "HospitalisedAged15to24                  float64\n",
       "HospitalisedAged25to34                  float64\n",
       "HospitalisedAged35to44                  float64\n",
       "HospitalisedAged45to54                  float64\n",
       "HospitalisedAged55to64                  float64\n",
       "Male                                    float64\n",
       "Female                                  float64\n",
       "Unknown                                 float64\n",
       "Aged1to4                                float64\n",
       "Aged5to14                               float64\n",
       "Aged15to24                              float64\n",
       "Aged25to34                              float64\n",
       "Aged35to44                              float64\n",
       "Aged45to54                              float64\n",
       "Aged55to64                              float64\n",
       "FID                                       int64\n",
       "HospitalisedAged65to74                  float64\n",
       "HospitalisedAged75to84                  float64\n",
       "HospitalisedAged85up                    float64\n",
       "Aged65to74                              float64\n",
       "Aged75to84                              float64\n",
       "Aged85up                                float64\n",
       "dtype: object"
      ]
     },
     "execution_count": 26,
     "metadata": {},
     "output_type": "execute_result"
    }
   ],
   "source": [
    "#I will convert the Date values into datetime variables\n",
    "covid_IRL_clean['Date'] = pd.to_datetime(covid_IRL_clean['Date'])\n",
    "\n",
    "#I check if the format of the Date column has changed successfully\n",
    "covid_IRL_clean.dtypes"
   ]
  },
  {
   "cell_type": "code",
   "execution_count": 11,
   "id": "052e4672-e86f-4af8-baac-86615689fe71",
   "metadata": {
    "collapsed": true,
    "jupyter": {
     "outputs_hidden": true
    },
    "tags": []
   },
   "outputs": [
    {
     "data": {
      "text/plain": [
       "Index(['Date', 'ConfirmedCovidCases', 'TotalConfirmedCovidCases',\n",
       "       'ConfirmedCovidDeaths', 'TotalCovidDeaths', 'HospitalisedCovidCases',\n",
       "       'RequiringICUCovidCases', 'HospitalisedAged5', 'HospitalisedAged5to14',\n",
       "       'HospitalisedAged15to24', 'HospitalisedAged25to34',\n",
       "       'HospitalisedAged35to44', 'HospitalisedAged45to54',\n",
       "       'HospitalisedAged55to64', 'Male', 'Female', 'Unknown', 'Aged1to4',\n",
       "       'Aged5to14', 'Aged15to24', 'Aged25to34', 'Aged35to44', 'Aged45to54',\n",
       "       'Aged55to64', 'FID', 'HospitalisedAged65to74', 'HospitalisedAged75to84',\n",
       "       'HospitalisedAged85up', 'Aged65to74', 'Aged75to84', 'Aged85up'],\n",
       "      dtype='object')"
      ]
     },
     "execution_count": 11,
     "metadata": {},
     "output_type": "execute_result"
    }
   ],
   "source": [
    "#Drop columns I am not interested in\n",
    "covid_IRL_clean=covid_IRL_fill.drop([\"X\", \"Y\",\"StatisticsProfileDate\", \"CovidCasesConfirmed\",\"HealthcareWorkersCovidCases\", \"ClustersNotified\", \"Median_Age\",\"CommunityTransmission\", \"CloseContact\", \"TravelAbroad\"], axis='columns')\n",
    "\n",
    "#Check the columns in the new df\n",
    "covid_IRL_clean.columns\n"
   ]
  },
  {
   "cell_type": "code",
   "execution_count": 12,
   "id": "abf6e7a1-a72c-45e0-9965-0b328014a478",
   "metadata": {
    "collapsed": true,
    "jupyter": {
     "outputs_hidden": true
    },
    "tags": []
   },
   "outputs": [
    {
     "data": {
      "text/plain": [
       "Index(['FID', 'Date', 'ConfirmedCovidCases', 'TotalConfirmedCovidCases',\n",
       "       'ConfirmedCovidDeaths', 'TotalCovidDeaths', 'HospitalisedCovidCases',\n",
       "       'RequiringICUCovidCases', 'Aged1to4', 'Aged5to14', 'Aged15to24',\n",
       "       'Aged25to34', 'Aged35to44', 'Aged45to54', 'Aged55to64', 'Aged65to74',\n",
       "       'Aged75to84', 'Aged85up', 'HospitalisedAged5', 'HospitalisedAged5to14',\n",
       "       'HospitalisedAged15to24', 'HospitalisedAged25to34',\n",
       "       'HospitalisedAged35to44', 'HospitalisedAged45to54',\n",
       "       'HospitalisedAged55to64', 'HospitalisedAged65to74',\n",
       "       'HospitalisedAged75to84', 'HospitalisedAged85up', 'Male', 'Female',\n",
       "       'Unknown'],\n",
       "      dtype='object')"
      ]
     },
     "execution_count": 12,
     "metadata": {},
     "output_type": "execute_result"
    }
   ],
   "source": [
    "#rearrange columns\n",
    "covid_IRL_ordered=covid_IRL_clean[[\"FID\",\"Date\", \"ConfirmedCovidCases\", \"TotalConfirmedCovidCases\", \"ConfirmedCovidDeaths\", \"TotalCovidDeaths\", 'HospitalisedCovidCases', 'RequiringICUCovidCases', 'Aged1to4','Aged5to14', 'Aged15to24', 'Aged25to34', 'Aged35to44', 'Aged45to54',\n",
    "       'Aged55to64','Aged65to74', 'Aged75to84', 'Aged85up','HospitalisedAged5', 'HospitalisedAged5to14','HospitalisedAged15to24', 'HospitalisedAged25to34', 'HospitalisedAged35to44', 'HospitalisedAged45to54',\n",
    "       'HospitalisedAged55to64', 'HospitalisedAged65to74', 'HospitalisedAged75to84','HospitalisedAged85up', 'Male', 'Female', 'Unknown']]\n",
    "covid_IRL_ordered.columns"
   ]
  },
  {
   "cell_type": "markdown",
   "id": "69fec473-7081-4c82-932b-e5a0465dca76",
   "metadata": {},
   "source": [
    "***"
   ]
  },
  {
   "cell_type": "markdown",
   "id": "3f1382da-9848-4b71-afc1-24d0d554956a",
   "metadata": {},
   "source": [
    "## Data Exploration and Analysis"
   ]
  },
  {
   "cell_type": "code",
   "execution_count": 19,
   "id": "fde973a0-0996-4a99-a5e5-689d6755e451",
   "metadata": {
    "collapsed": true,
    "jupyter": {
     "outputs_hidden": true
    },
    "tags": []
   },
   "outputs": [
    {
     "data": {
      "text/plain": [
       "Index(['FID', 'Date', 'ConfirmedCovidCases', 'TotalConfirmedCovidCases',\n",
       "       'ConfirmedCovidDeaths', 'TotalCovidDeaths', 'HospitalisedCovidCases',\n",
       "       'RequiringICUCovidCases', 'Aged1to4', 'Aged5to14', 'Aged15to24',\n",
       "       'Aged25to34', 'Aged35to44', 'Aged45to54', 'Aged55to64', 'Aged65to74',\n",
       "       'Aged75to84', 'Aged85up', 'HospitalisedAged5', 'HospitalisedAged5to14',\n",
       "       'HospitalisedAged15to24', 'HospitalisedAged25to34',\n",
       "       'HospitalisedAged35to44', 'HospitalisedAged45to54',\n",
       "       'HospitalisedAged55to64', 'HospitalisedAged65to74',\n",
       "       'HospitalisedAged75to84', 'HospitalisedAged85up', 'Male', 'Female',\n",
       "       'Unknown'],\n",
       "      dtype='object')"
      ]
     },
     "execution_count": 19,
     "metadata": {},
     "output_type": "execute_result"
    }
   ],
   "source": [
    "#I remind myself of the names of the columns\n",
    "covid_IRL_ordered.columns"
   ]
  },
  {
   "cell_type": "markdown",
   "id": "22d1af3d-9f19-4df2-b190-e4c44a17000d",
   "metadata": {},
   "source": [
    "The first thing I am going to explore is the cases by age group.\n",
    "I am particularely interested in understanding the effect of the \n",
    "Goverment restrictions on schools opening/closing and if there\n",
    "are any interesting observations."
   ]
  },
  {
   "cell_type": "code",
   "execution_count": 21,
   "id": "f88a9bd8-c2db-40b8-84c6-3fa2e4ff4615",
   "metadata": {
    "tags": []
   },
   "outputs": [
    {
     "data": {
      "image/png": "[encoded data removed]",
      "text/plain": [
       "<Figure size 432x288 with 10 Axes>"
      ]
     },
     "metadata": {
      "needs_background": "light"
     },
     "output_type": "display_data"
    }
   ],
   "source": [
    "#set up a multiplot area 5 rows by 2 columns - share the ylabel so data can be compared more easily\n",
    "fig, ax = plt.subplots(5,2, sharey=True)\n",
    "\n",
    "#define what's to go into each plot\n",
    "ax[0,0].plot(covid_IRL_ordered[\"Date\"],covid_IRL_ordered[\"Aged1to4\"])\n",
    "ax[0,1].plot(covid_IRL_ordered[\"Date\"],covid_IRL_ordered[\"Aged5to14\"])\n",
    "ax[1,0].plot(covid_IRL_ordered[\"Date\"],covid_IRL_ordered[\"Aged15to24\"])\n",
    "ax[1,1].plot(covid_IRL_ordered[\"Date\"],covid_IRL_ordered[\"Aged25to34\"])\n",
    "ax[2,0].plot(covid_IRL_ordered[\"Date\"],covid_IRL_ordered[\"Aged35to44\"])\n",
    "ax[2,1].plot(covid_IRL_ordered[\"Date\"],covid_IRL_ordered[\"Aged45to54\"])\n",
    "ax[3,0].plot(covid_IRL_ordered[\"Date\"],covid_IRL_ordered[\"Aged55to64\"])\n",
    "ax[3,1].plot(covid_IRL_ordered[\"Date\"],covid_IRL_ordered[\"Aged65to74\"])\n",
    "ax[4,0].plot(covid_IRL_ordered[\"Date\"],covid_IRL_ordered[\"Aged75to84\"])\n",
    "ax[4,1].plot(covid_IRL_ordered[\"Date\"],covid_IRL_ordered[\"Aged85up\"])\n",
    "\n",
    "#set labels for x and y axes\n",
    "ax[0,0].set_ylabel(\"Aged1to4\")\n",
    "ax[0,1].set_ylabel(\"Aged5to14\")\n",
    "ax[1,0].set_ylabel(\"Aged15to24\")\n",
    "ax[1,1].set_ylabel(\"Aged25to34\")\n",
    "ax[2,0].set_ylabel(\"Aged35to44\")\n",
    "ax[2,1].set_ylabel(\"Aged45to54\")\n",
    "ax[3,0].set_ylabel(\"Aged55to64\")\n",
    "ax[3,1].set_ylabel(\"Aged65to74\")\n",
    "ax[4,0].set_ylabel(\"Aged75to84\")\n",
    "ax[4,1].set_ylabel(\"Aged85up\")\n",
    "ax[4,0].set_xlabel(\"Date\")\n",
    "ax[4,1].set_xlabel(\"Date\")\n",
    "\n",
    "plt.show()"
   ]
  },
  {
   "cell_type": "code",
   "execution_count": null,
   "id": "54e44f1b-e89a-4f2b-a009-ef43cb29f8f0",
   "metadata": {},
   "outputs": [],
   "source": [
    "\"\"\"\n",
    "However, this visualization is interesting as it's showing\n",
    "asimilar trend but the 15-24 category (and slightly 5-14 \n",
    "and 25-34) have a little bump in the middle\n",
    "that it's definitely not there in the 35-44 category.\n",
    "\n",
    "I'll explore this further but first I'll find a way to improve \n",
    "the display of the x axis\n",
    "\"\"\""
   ]
  },
  {
   "cell_type": "code",
   "execution_count": 22,
   "id": "faf5a9cc-5ba5-4ede-9fe4-b94044b7b06c",
   "metadata": {
    "tags": []
   },
   "outputs": [
    {
     "data": {
      "image/png": "[encoded data removed]",
      "text/plain": [
       "<Figure size 432x288 with 1 Axes>"
      ]
     },
     "metadata": {
      "needs_background": "light"
     },
     "output_type": "display_data"
    }
   ],
   "source": [
    "sns.lineplot(data=covid_IRL_ordered, x=\"Date\",y=\"Aged15to24\")\n",
    "\n",
    "plt.show()"
   ]
  },
  {
   "cell_type": "code",
   "execution_count": null,
   "id": "b6c78996-6f3d-4e1b-b745-8f049ae7a901",
   "metadata": {
    "jupyter": {
     "source_hidden": true
    },
    "tags": []
   },
   "outputs": [],
   "source": []
  },
  {
   "cell_type": "code",
   "execution_count": null,
   "id": "e7139b3d-91a6-48fb-bdbd-e0f220e5e64c",
   "metadata": {},
   "outputs": [],
   "source": []
  },
  {
   "cell_type": "code",
   "execution_count": null,
   "id": "5c92dd36-7b3c-4146-9ede-e4f5f2a4bbcf",
   "metadata": {},
   "outputs": [],
   "source": []
  },
  {
   "cell_type": "code",
   "execution_count": null,
   "id": "3b28bc40-4b4a-4dd3-a1dc-bd0b28ecebbd",
   "metadata": {},
   "outputs": [],
   "source": []
  }
 ],
 "metadata": {
  "kernelspec": {
   "display_name": "Python 3",
   "language": "python",
   "name": "python3"
  },
  "language_info": {
   "codemirror_mode": {
    "name": "ipython",
    "version": 3
   },
   "file_extension": ".py",
   "mimetype": "text/x-python",
   "name": "python",
   "nbconvert_exporter": "python",
   "pygments_lexer": "ipython3",
   "version": "3.8.8"
  }
 },
 "nbformat": 4,
 "nbformat_minor": 5
}
